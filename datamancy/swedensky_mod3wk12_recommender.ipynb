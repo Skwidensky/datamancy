{
 "cells": [
  {
   "cell_type": "code",
   "execution_count": 17,
   "metadata": {
    "collapsed": true
   },
   "outputs": [],
   "source": [
    "#Charles Swedensky\n",
    "#CSC570\n",
    "#Recommenders\n",
    "#9 APR 2017"
   ]
  },
  {
   "cell_type": "code",
   "execution_count": 18,
   "metadata": {
    "collapsed": false
   },
   "outputs": [],
   "source": [
    "import pandas as pd\n",
    "import numpy as np"
   ]
  },
  {
   "cell_type": "code",
   "execution_count": 19,
   "metadata": {
    "collapsed": false
   },
   "outputs": [],
   "source": [
    "#read in movie reviews CSV\n",
    "M = pd.read_csv('movie_reviews.csv', index_col='Name')"
   ]
  },
  {
   "cell_type": "code",
   "execution_count": 20,
   "metadata": {
    "collapsed": false
   },
   "outputs": [
    {
     "data": {
      "text/html": [
       "<div>\n",
       "<table border=\"1\" class=\"dataframe\">\n",
       "  <thead>\n",
       "    <tr style=\"text-align: right;\">\n",
       "      <th></th>\n",
       "      <th>American Sniper</th>\n",
       "      <th>The Hunger Games: Mockingjay - Part 1</th>\n",
       "      <th>Guardians of the Galaxy</th>\n",
       "      <th>The Lego Movie</th>\n",
       "      <th>The Hobbit</th>\n",
       "      <th>Transformers</th>\n",
       "      <th>Malificent</th>\n",
       "      <th>Big Hero 6</th>\n",
       "      <th>Godzilla</th>\n",
       "      <th>Interstellar</th>\n",
       "      <th>How to Train your Dragon 2</th>\n",
       "      <th>Gone Girl</th>\n",
       "      <th>Divergent</th>\n",
       "      <th>The Fault in Our Stars</th>\n",
       "      <th>Unbroken</th>\n",
       "      <th>300: Rise of an Empire</th>\n",
       "    </tr>\n",
       "    <tr>\n",
       "      <th>Name</th>\n",
       "      <th></th>\n",
       "      <th></th>\n",
       "      <th></th>\n",
       "      <th></th>\n",
       "      <th></th>\n",
       "      <th></th>\n",
       "      <th></th>\n",
       "      <th></th>\n",
       "      <th></th>\n",
       "      <th></th>\n",
       "      <th></th>\n",
       "      <th></th>\n",
       "      <th></th>\n",
       "      <th></th>\n",
       "      <th></th>\n",
       "      <th></th>\n",
       "    </tr>\n",
       "  </thead>\n",
       "  <tbody>\n",
       "    <tr>\n",
       "      <th>Charles Swedensky</th>\n",
       "      <td>3.0</td>\n",
       "      <td>1.0</td>\n",
       "      <td>3.0</td>\n",
       "      <td>2.0</td>\n",
       "      <td>NaN</td>\n",
       "      <td>1.0</td>\n",
       "      <td>NaN</td>\n",
       "      <td>4.0</td>\n",
       "      <td>NaN</td>\n",
       "      <td>5.0</td>\n",
       "      <td>2.0</td>\n",
       "      <td>NaN</td>\n",
       "      <td>NaN</td>\n",
       "      <td>NaN</td>\n",
       "      <td>NaN</td>\n",
       "      <td>NaN</td>\n",
       "    </tr>\n",
       "    <tr>\n",
       "      <th>Aarti Jaiswal</th>\n",
       "      <td>4.0</td>\n",
       "      <td>NaN</td>\n",
       "      <td>NaN</td>\n",
       "      <td>NaN</td>\n",
       "      <td>4.0</td>\n",
       "      <td>3.0</td>\n",
       "      <td>NaN</td>\n",
       "      <td>5.0</td>\n",
       "      <td>NaN</td>\n",
       "      <td>NaN</td>\n",
       "      <td>NaN</td>\n",
       "      <td>4.0</td>\n",
       "      <td>NaN</td>\n",
       "      <td>NaN</td>\n",
       "      <td>NaN</td>\n",
       "      <td>NaN</td>\n",
       "    </tr>\n",
       "    <tr>\n",
       "      <th>Aditya Dharmasagar</th>\n",
       "      <td>5.0</td>\n",
       "      <td>NaN</td>\n",
       "      <td>NaN</td>\n",
       "      <td>4.0</td>\n",
       "      <td>5.0</td>\n",
       "      <td>4.0</td>\n",
       "      <td>4.0</td>\n",
       "      <td>NaN</td>\n",
       "      <td>4.0</td>\n",
       "      <td>5.0</td>\n",
       "      <td>5.0</td>\n",
       "      <td>5.0</td>\n",
       "      <td>4.0</td>\n",
       "      <td>4.0</td>\n",
       "      <td>NaN</td>\n",
       "      <td>5.0</td>\n",
       "    </tr>\n",
       "    <tr>\n",
       "      <th>Adrian Cavallaris</th>\n",
       "      <td>NaN</td>\n",
       "      <td>4.0</td>\n",
       "      <td>3.0</td>\n",
       "      <td>NaN</td>\n",
       "      <td>4.0</td>\n",
       "      <td>2.0</td>\n",
       "      <td>NaN</td>\n",
       "      <td>NaN</td>\n",
       "      <td>NaN</td>\n",
       "      <td>NaN</td>\n",
       "      <td>NaN</td>\n",
       "      <td>NaN</td>\n",
       "      <td>4.0</td>\n",
       "      <td>NaN</td>\n",
       "      <td>NaN</td>\n",
       "      <td>NaN</td>\n",
       "    </tr>\n",
       "    <tr>\n",
       "      <th>Ahmed Muheebuddin</th>\n",
       "      <td>5.0</td>\n",
       "      <td>NaN</td>\n",
       "      <td>4.0</td>\n",
       "      <td>NaN</td>\n",
       "      <td>3.0</td>\n",
       "      <td>NaN</td>\n",
       "      <td>NaN</td>\n",
       "      <td>NaN</td>\n",
       "      <td>NaN</td>\n",
       "      <td>NaN</td>\n",
       "      <td>NaN</td>\n",
       "      <td>NaN</td>\n",
       "      <td>NaN</td>\n",
       "      <td>NaN</td>\n",
       "      <td>NaN</td>\n",
       "      <td>NaN</td>\n",
       "    </tr>\n",
       "  </tbody>\n",
       "</table>\n",
       "</div>"
      ],
      "text/plain": [
       "                    American Sniper  The Hunger Games: Mockingjay - Part 1  \\\n",
       "Name                                                                         \n",
       "Charles Swedensky               3.0                                    1.0   \n",
       "Aarti Jaiswal                   4.0                                    NaN   \n",
       "Aditya Dharmasagar              5.0                                    NaN   \n",
       "Adrian Cavallaris               NaN                                    4.0   \n",
       "Ahmed Muheebuddin               5.0                                    NaN   \n",
       "\n",
       "                    Guardians of the Galaxy  The Lego Movie  The Hobbit  \\\n",
       "Name                                                                      \n",
       "Charles Swedensky                       3.0             2.0         NaN   \n",
       "Aarti Jaiswal                           NaN             NaN         4.0   \n",
       "Aditya Dharmasagar                      NaN             4.0         5.0   \n",
       "Adrian Cavallaris                       3.0             NaN         4.0   \n",
       "Ahmed Muheebuddin                       4.0             NaN         3.0   \n",
       "\n",
       "                    Transformers  Malificent  Big Hero 6  Godzilla  \\\n",
       "Name                                                                 \n",
       "Charles Swedensky            1.0         NaN         4.0       NaN   \n",
       "Aarti Jaiswal                3.0         NaN         5.0       NaN   \n",
       "Aditya Dharmasagar           4.0         4.0         NaN       4.0   \n",
       "Adrian Cavallaris            2.0         NaN         NaN       NaN   \n",
       "Ahmed Muheebuddin            NaN         NaN         NaN       NaN   \n",
       "\n",
       "                    Interstellar  How to Train your Dragon 2  Gone Girl  \\\n",
       "Name                                                                      \n",
       "Charles Swedensky            5.0                         2.0        NaN   \n",
       "Aarti Jaiswal                NaN                         NaN        4.0   \n",
       "Aditya Dharmasagar           5.0                         5.0        5.0   \n",
       "Adrian Cavallaris            NaN                         NaN        NaN   \n",
       "Ahmed Muheebuddin            NaN                         NaN        NaN   \n",
       "\n",
       "                    Divergent  The Fault in Our Stars  Unbroken  \\\n",
       "Name                                                              \n",
       "Charles Swedensky         NaN                     NaN       NaN   \n",
       "Aarti Jaiswal             NaN                     NaN       NaN   \n",
       "Aditya Dharmasagar        4.0                     4.0       NaN   \n",
       "Adrian Cavallaris         4.0                     NaN       NaN   \n",
       "Ahmed Muheebuddin         NaN                     NaN       NaN   \n",
       "\n",
       "                    300: Rise of an Empire  \n",
       "Name                                        \n",
       "Charles Swedensky                      NaN  \n",
       "Aarti Jaiswal                          NaN  \n",
       "Aditya Dharmasagar                     5.0  \n",
       "Adrian Cavallaris                      NaN  \n",
       "Ahmed Muheebuddin                      NaN  "
      ]
     },
     "execution_count": 20,
     "metadata": {},
     "output_type": "execute_result"
    }
   ],
   "source": [
    "#make sure we got the right document\n",
    "#I added my reviews\n",
    "M.head()"
   ]
  },
  {
   "cell_type": "code",
   "execution_count": 21,
   "metadata": {
    "collapsed": false
   },
   "outputs": [],
   "source": [
    "def pearson(s1, s2):\n",
    "    \"\"\"Take two pd.Series objects and return a pearson correlation.\"\"\"\n",
    "    s1_c = s1 - s1.mean()\n",
    "    s2_c = s2 - s2.mean()\n",
    "    return np.sum(s1_c * s2_c) / np.sqrt(np.sum(s1_c ** 2) * np.sum(s2_c ** 2))"
   ]
  },
  {
   "cell_type": "code",
   "execution_count": 22,
   "metadata": {
    "collapsed": false
   },
   "outputs": [],
   "source": [
    "def get_recs(movie_name, M, num):\n",
    "\n",
    "    import numpy as np\n",
    "    reviews = []\n",
    "    for title in M.columns:\n",
    "        if title == movie_name:\n",
    "            continue\n",
    "        cor = pearson(M[movie_name], M[title])\n",
    "        if np.isnan(cor):\n",
    "            continue\n",
    "        else:\n",
    "            reviews.append((title, cor))\n",
    "    \n",
    "    reviews.sort(key=lambda tup: tup[1], reverse=True)\n",
    "    return reviews[:num]\n",
    "\n",
    "    "
   ]
  },
  {
   "cell_type": "markdown",
   "metadata": {},
   "source": [
    "###Question 1:  What movie is most Similar to 'The fault in our stars' (60 pts)\n"
   ]
  },
  {
   "cell_type": "code",
   "execution_count": 23,
   "metadata": {
    "collapsed": false
   },
   "outputs": [
    {
     "data": {
      "text/plain": [
       "[('Interstellar', 0.20795592931904069)]"
      ]
     },
     "execution_count": 23,
     "metadata": {},
     "output_type": "execute_result"
    }
   ],
   "source": [
    "#since the return value of get_recs is already sorted in descending order,\n",
    "#passing \"1\" as the num parameter will return the movie with the highest similarity/correlation\n",
    "get_recs('The Fault in Our Stars', M, 1)"
   ]
  },
  {
   "cell_type": "markdown",
   "metadata": {},
   "source": [
    "###Question 2:  Which movie(s) would you most like to see, based on your classmates experience? (40 pts)"
   ]
  },
  {
   "cell_type": "code",
   "execution_count": 24,
   "metadata": {
    "collapsed": false
   },
   "outputs": [
    {
     "name": "stderr",
     "output_type": "stream",
     "text": [
      "C:\\Users\\Charles\\Anaconda2\\lib\\site-packages\\ipykernel\\__main__.py:4: FutureWarning: sort is deprecated, use sort_values(inplace=True) for INPLACE sorting\n"
     ]
    },
    {
     "data": {
      "text/plain": [
       "[('Godzilla', 0.21685968820036089)]"
      ]
     },
     "execution_count": 24,
     "metadata": {},
     "output_type": "execute_result"
    }
   ],
   "source": [
    "#the movies I've seen\n",
    "my_ratings = M.ix['Charles Swedensky'].dropna()\n",
    "#the movie I've rated the highest\n",
    "my_ratings.sort(ascending=False)\n",
    "#the name of the movie I've rated the highest\n",
    "fav_movie = my_ratings.index[0]\n",
    "#the movie most like my highest rated movie\n",
    "get_recs(fav_movie, M, 1)"
   ]
  },
  {
   "cell_type": "markdown",
   "metadata": {},
   "source": [
    "###Question 3: Bonus Question...  For all the movies you haven't seen, can you predict how you'd rate them using your the class reviews? (10 pts)"
   ]
  },
  {
   "cell_type": "code",
   "execution_count": 25,
   "metadata": {
    "collapsed": false
   },
   "outputs": [],
   "source": [
    "#######Pseudocode\n",
    "#for every other person\n",
    "##calculate how closely their taste in movies aligns with mine*\n",
    "#sort them by this calculation in descending order\n",
    "#for every movie I haven't seen\n",
    "##if the person with the most similar taste in movies to me rated this movie, give it that rating for me\n",
    "##else see if the person with the 2nd most similar taste in movies to me rated it -- etc. until a person is found in my sorted list that has given this movie a rating.\n",
    "\n",
    "#*this similarity function would return a scaled, cumulative value correlating to how closely the other person rated all of the movies contained\n",
    "#in the set of movies I've seen.\n",
    "#with a large enough sample set a person could be clustered with other like-minded people and have recommendations made\n",
    "#to them based on the ratings of the others in their cluster. In my example I am basing my predictions from the ratings of\n",
    "#other, singular participants, but if there were, say, 10,000 people in my cluster, their average rating would be used instead.\n",
    "\n",
    "#because there are so many missing values in this dataset I don't believe that regression would be helpful."
   ]
  },
  {
   "cell_type": "code",
   "execution_count": null,
   "metadata": {
    "collapsed": true
   },
   "outputs": [],
   "source": []
  }
 ],
 "metadata": {
  "anaconda-cloud": {},
  "kernelspec": {
   "display_name": "Python [default]",
   "language": "python",
   "name": "python2"
  },
  "language_info": {
   "codemirror_mode": {
    "name": "ipython",
    "version": 2
   },
   "file_extension": ".py",
   "mimetype": "text/x-python",
   "name": "python",
   "nbconvert_exporter": "python",
   "pygments_lexer": "ipython2",
   "version": "2.7.12"
  }
 },
 "nbformat": 4,
 "nbformat_minor": 0
}
